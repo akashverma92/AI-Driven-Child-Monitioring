{
 "cells": [
  {
   "cell_type": "code",
   "execution_count": 1,
   "metadata": {},
   "outputs": [],
   "source": [
    "import joblib\n",
    "import numpy as np\n",
    "import pandas as pd\n",
    "from sklearn.preprocessing import StandardScaler"
   ]
  },
  {
   "cell_type": "code",
   "execution_count": 2,
   "metadata": {},
   "outputs": [],
   "source": [
    "svm_model_user_behavior = joblib.load(r'D:\\ChildTiming\\models\\user_behavior_svm_model.pkl')\n",
    "svm_model_uci = joblib.load(r'D:\\ChildTiming\\models\\uci_svm_model.pkl')"
   ]
  },
  {
   "cell_type": "code",
   "execution_count": 3,
   "metadata": {},
   "outputs": [],
   "source": [
    "def predict_user_behavior(input_data):\n",
    "    # Predict the class using the saved SVM model (no scaling here)\n",
    "    prediction = svm_model_user_behavior.predict([input_data])\n",
    "    return prediction"
   ]
  },
  {
   "cell_type": "code",
   "execution_count": 5,
   "metadata": {},
   "outputs": [],
   "source": [
    "def predict_uci(input_data):\n",
    "    # Predict the class using the saved SVM model (no scaling here)\n",
    "    prediction = svm_model_uci.predict([input_data])\n",
    "    return prediction\n"
   ]
  },
  {
   "cell_type": "code",
   "execution_count": 18,
   "metadata": {},
   "outputs": [],
   "source": [
    "def get_user_input_user_behavior():\n",
    "    print(\"Please enter the following details for the User Behavior prediction:\")\n",
    "    # user_id = int(input(\"User ID: \"))\n",
    "    device_model = int(input(\"Device Model: \"))\n",
    "    operating_system = int(input(\"Operating System: \"))\n",
    "    age = float(input(\"Age: \"))\n",
    "    gender = int(input(\"Gender (0 for Male, 1 for Female): \"))\n",
    "    app_usage = float(input(\"App Usage Time (min/day): \"))\n",
    "    screen_on_time = float(input(\"Screen On Time (hours/day): \"))\n",
    "    battery_drain = float(input(\"Battery Drain (mAh/day): \"))\n",
    "    apps_installed = int(input(\"Number of Apps Installed: \"))\n",
    "    data_usage = float(input(\"Data Usage (MB/day): \"))\n",
    "    \n",
    "    # Create the input data array\n",
    "    return [ device_model, operating_system, age, gender, app_usage, screen_on_time, battery_drain, apps_installed, data_usage]\n"
   ]
  },
  {
   "cell_type": "code",
   "execution_count": 15,
   "metadata": {},
   "outputs": [],
   "source": [
    "def get_user_input_uci():\n",
    "    print(\"Please enter the following details for the UCI HAR prediction:\")\n",
    "    # Example UCI features; replace with actual feature names based on dataset\n",
    "    feature_1 = float(input(\"Feature 1: \"))\n",
    "    feature_2 = float(input(\"Feature 2: \"))\n",
    "    feature_3 = float(input(\"Feature 3: \"))\n",
    "    feature_4 = float(input(\"Feature 4: \"))\n",
    "    feature_5 = float(input(\"Feature 5: \"))\n",
    "    feature_6 = float(input(\"Feature 6: \"))\n",
    "    feature_7 = float(input(\"Feature 7: \"))\n",
    "    feature_8 = float(input(\"Feature 8: \"))\n",
    "    feature_9 = float(input(\"Feature 9: \"))\n",
    "    # Create the input data array\n",
    "    return [feature_1, feature_2, feature_3, feature_4, feature_5, feature_6, feature_7, feature_8, feature_9]\n"
   ]
  },
  {
   "cell_type": "code",
   "execution_count": 19,
   "metadata": {},
   "outputs": [
    {
     "name": "stdout",
     "output_type": "stream",
     "text": [
      "Select dataset for prediction:\n",
      "1. User Behavior Dataset\n",
      "2. UCI HAR Dataset\n",
      "Please enter the following details for the User Behavior prediction:\n",
      "Prediction for User Behavior Dataset: 4\n"
     ]
    }
   ],
   "source": [
    "def main():\n",
    "    print(\"Select dataset for prediction:\")\n",
    "    print(\"1. User Behavior Dataset\")\n",
    "    print(\"2. UCI HAR Dataset\")\n",
    "    \n",
    "    choice = int(input(\"Enter 1 or 2: \"))\n",
    "    \n",
    "    if choice == 1:\n",
    "        # Get user input for User Behavior Dataset\n",
    "        user_input = get_user_input_user_behavior()\n",
    "        prediction = predict_user_behavior(user_input)\n",
    "        print(f\"Prediction for User Behavior Dataset: {prediction[0]}\")\n",
    "    elif choice == 2:\n",
    "        # Get user input for UCI HAR Dataset\n",
    "        user_input = get_user_input_uci()\n",
    "        prediction = predict_uci(user_input)\n",
    "        print(f\"Prediction for UCI HAR Dataset: {prediction[0]}\")\n",
    "    else:\n",
    "        print(\"Invalid choice! Please select 1 or 2.\")\n",
    "    \n",
    "if __name__ == \"__main__\":\n",
    "    main()"
   ]
  }
 ],
 "metadata": {
  "kernelspec": {
   "display_name": "Python 3",
   "language": "python",
   "name": "python3"
  },
  "language_info": {
   "codemirror_mode": {
    "name": "ipython",
    "version": 3
   },
   "file_extension": ".py",
   "mimetype": "text/x-python",
   "name": "python",
   "nbconvert_exporter": "python",
   "pygments_lexer": "ipython3",
   "version": "3.11.4"
  }
 },
 "nbformat": 4,
 "nbformat_minor": 2
}
